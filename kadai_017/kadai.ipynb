{
  "nbformat": 4,
  "nbformat_minor": 0,
  "metadata": {
    "colab": {
      "provenance": []
    },
    "kernelspec": {
      "name": "python3",
      "display_name": "Python 3"
    },
    "language_info": {
      "name": "python"
    }
  },
  "cells": [
    {
      "cell_type": "code",
      "execution_count": 30,
      "metadata": {
        "colab": {
          "base_uri": "https://localhost:8080/"
        },
        "id": "G2kiWBRaDyxh",
        "outputId": "bc84d43f-a37e-4d5e-be93-45fffa30e10a"
      },
      "outputs": [
        {
          "output_type": "stream",
          "name": "stdout",
          "text": [
            "太郎は20歳以上なので大人です\n",
            "次郎は20歳以上なので大人です\n",
            "花子は20歳以上なので大人です\n",
            "梅は20歳以上なので大人です\n",
            "春は20歳より下なので、まだ大人ではありません\n"
          ]
        }
      ],
      "source": [
        "class Human:\n",
        "  def __init__(self,name,age):\n",
        "    self.name=name\n",
        "    self.age=age\n",
        "\n",
        "  def check_adult(self):\n",
        "    if self.age>=20:\n",
        "      print(f\"{self.name}は20歳以上なので大人です\")\n",
        "    else:\n",
        "      print(f\"{self.name}は20歳より下なので、まだ大人ではありません\")\n",
        "\n",
        "humans=[Human(\"太郎\",60),Human(\"次郎\",50),Human(\"花子\",21),Human(\"梅\",20),Human(\"春\",18)]\n",
        "\n",
        "#for human in range():\n",
        "for human in humans:\n",
        "  human.check_adult()"
      ]
    }
  ]
}