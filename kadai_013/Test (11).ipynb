{
  "nbformat": 4,
  "nbformat_minor": 0,
  "metadata": {
    "colab": {
      "provenance": [],
      "gpuType": "T4",
      "toc_visible": true
    },
    "kernelspec": {
      "name": "python3",
      "display_name": "Python 3"
    },
    "language_info": {
      "name": "python"
    },
    "accelerator": "GPU"
  },
  "cells": [
    {
      "cell_type": "code",
      "source": [
        "def pay(price:int,tax:float=0.1):\n",
        "  total= price * (1+tax)\n",
        "  return total\n",
        "\n",
        "pay(100)"
      ],
      "metadata": {
        "colab": {
          "base_uri": "https://localhost:8080/"
        },
        "id": "4zqQiezHaw13",
        "outputId": "88eba768-c157-431c-cbea-932fa2dc8c1d"
      },
      "execution_count": 53,
      "outputs": [
        {
          "output_type": "execute_result",
          "data": {
            "text/plain": [
              "110.00000000000001"
            ]
          },
          "metadata": {},
          "execution_count": 53
        }
      ]
    }
  ]
}