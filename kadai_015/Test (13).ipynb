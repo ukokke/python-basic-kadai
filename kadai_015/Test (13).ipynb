{
  "nbformat": 4,
  "nbformat_minor": 0,
  "metadata": {
    "colab": {
      "provenance": [],
      "gpuType": "T4",
      "toc_visible": true
    },
    "kernelspec": {
      "name": "python3",
      "display_name": "Python 3"
    },
    "language_info": {
      "name": "python"
    },
    "accelerator": "GPU"
  },
  "cells": [
    {
      "cell_type": "code",
      "source": [
        "class Human():\n",
        "  def __init__(self,name,age):\n",
        "    self.name=name\n",
        "    self.age=age\n",
        "\n",
        "  def printinfo(self):\n",
        "    print(f\"名前は{self.name}です。年齢は{self.age}です。\")\n",
        "\n",
        "human=Human(\"侍\",30)\n",
        "human.printinfo()"
      ],
      "metadata": {
        "colab": {
          "base_uri": "https://localhost:8080/"
        },
        "id": "HUxuKCqRf2xZ",
        "outputId": "e9d499e8-b197-4360-f07c-636cbf0fb7d1"
      },
      "execution_count": 9,
      "outputs": [
        {
          "output_type": "stream",
          "name": "stdout",
          "text": [
            "名前は侍です。年齢は30です。\n"
          ]
        }
      ]
    }
  ]
}